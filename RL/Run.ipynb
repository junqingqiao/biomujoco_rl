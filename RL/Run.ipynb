{
 "cells": [
  {
   "cell_type": "markdown",
   "metadata": {},
   "source": [
    "# Train the Model to Run"
   ]
  },
  {
   "cell_type": "markdown",
   "metadata": {},
   "source": []
  },
  {
   "cell_type": "code",
   "execution_count": null,
   "metadata": {},
   "outputs": [],
   "source": [
    "def nn_step_fn(carry, _):\n",
    "    data, key, nn_params, model = carry\n",
    "    new_data, new_key = nn_mjx_one_step(nn_params, model, data, key)\n",
    "    new_carry = (new_data, new_key, nn_params, model)\n",
    "    head_hight = new_data.sensordata[2]\n",
    "    # jax.debug.print(\"Head Height {0}\",head_hight)\n",
    "    return new_carry, (head_hight-1.63)**2\n",
    "    \n",
    "def decay_sum_scan(x, decay):\n",
    "    def f(sxtm1, xt):\n",
    "        b = xt + decay * sxtm1\n",
    "        return b, b\n",
    "    return jax.lax.scan(f, jp.zeros(x.shape[1:]), x)[1]\n",
    "\n",
    "def reward_n_step(nn_params, model, data, key):\n",
    "    repeat_n = 150\n",
    "    _, head_heights = jax.lax.scan(nn_step_fn, (data, key, nn_params, model), None, repeat_n)\n",
    "    reward = decay_sum_scan(head_heights, 0.95)[repeat_n -1]\n",
    "    return reward\n",
    "    \n",
    "# reward_grad = jax.jit(jax.grad(reward_n_step))\n",
    "\n",
    "\n",
    "def batch_reward(nn_params, batched_data, keys, model):\n",
    "    return jp.mean(jax.vmap(reward_n_step, (None, None, 0, 0))(nn_params, model, batched_data, keys))\n",
    "\n",
    "\n",
    "jit_batch_reward_grad = jax.jit(jax.grad((batch_reward)))\n",
    "jit_batch_reward = jax.jit(batch_reward)\n",
    "\n",
    "# The partial function will make model a static member. However, it will not reduce the compile time.\n",
    "# partial_batch_reward = partial(batch_reward, model = mjx_model)\n",
    "# jit_batch_reward_grad = jax.jit(jax.grad((partial_batch_reward)))\n",
    "# jit_batch_reward = jax.jit(partial_batch_reward)"
   ]
  }
 ],
 "metadata": {
  "kernelspec": {
   "display_name": "biomujoco",
   "language": "python",
   "name": "python3"
  },
  "language_info": {
   "name": "python",
   "version": "3.11.9"
  }
 },
 "nbformat": 4,
 "nbformat_minor": 2
}
