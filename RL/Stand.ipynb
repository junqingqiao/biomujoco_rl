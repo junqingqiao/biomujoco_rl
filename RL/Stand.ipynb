{
 "cells": [
  {
   "cell_type": "markdown",
   "metadata": {},
   "source": [
    "# Simple RL code to teach the model to stand"
   ]
  },
  {
   "cell_type": "markdown",
   "metadata": {},
   "source": [
    "## Setup jax enviroment and Load Model "
   ]
  },
  {
   "cell_type": "code",
   "execution_count": 1,
   "metadata": {},
   "outputs": [],
   "source": [
    "import numpy as np\n",
    "import mediapy as media\n",
    "import matplotlib.pyplot as plt\n",
    "\n",
    "\n",
    "import os\n",
    "os.environ[\"XLA_PYTHON_CLIENT_MEM_FRACTION\"] = \".60\"\n",
    "\n",
    "# Optionally, force JAX to preallocate memory.\n",
    "os.environ[\"XLA_PYTHON_CLIENT_PREALLOCATE\"] = \"true\"\n",
    "# os.environ[\"XLA_PYTHON_CLIENT_PREALLOCATE\"] = \"false\"\n",
    "\n",
    "# Setup environment variable for Nvidia GPU acceleration\n",
    "\n",
    "# os.environ['XLA_FLAGS'] = (\n",
    "#     '--xla_gpu_triton_gemm_any=True '\n",
    "# )\n",
    "\n",
    "backend = 'gpu'\n",
    "# backend = 'METAL'\n",
    "# backend = 'cpu'\n",
    "\n",
    "import jax\n",
    "# Enable compliation catch\n",
    "jax.config.update(\"jax_compilation_cache_dir\", \"./jax_cache\")\n",
    "jax.config.update(\"jax_persistent_cache_min_entry_size_bytes\", -1)\n",
    "jax.config.update(\"jax_persistent_cache_min_compile_time_secs\", 0)\n",
    "\n",
    "from jax import numpy as jp\n",
    "# More legible printing from numpy.\n",
    "jp.set_printoptions(precision=4, suppress=True, linewidth=100)\n",
    "\n",
    "import mujoco\n",
    "import mujoco.mjx as mjx\n",
    "from mujoco.mjx._src import scan\n",
    "from mujoco.mjx._src import types\n",
    "\n",
    "# More legible printing from numpy.\n",
    "np.set_printoptions(precision=4, suppress=True, linewidth=100)\n",
    "\n",
    "from IPython.display import clear_output\n",
    "clear_output()\n",
    "\n",
    "device = jax.devices(backend=backend)[0]\n",
    "\n",
    "model_path = '/home/bugman/Currentwork/biomujoco_converter/converted/mjc/Gait2354/gait2354_cvt1.xml'\n",
    "\n",
    "# Single step\n",
    "mjx_step = jax.jit(mjx.step, backend=backend)\n",
    "\n",
    "\n",
    "\n",
    "# mjx_multiple_steps = jax.jit(multiple_steps, backend=backend, )"
   ]
  },
  {
   "cell_type": "code",
   "execution_count": null,
   "metadata": {},
   "outputs": [],
   "source": [
    "from mujoco.mjx._src.biomtu.acceleration_mtu import acceleration_mtu\n",
    "\n",
    "mj_model = mujoco.MjModel.from_xml_path(model_path)\n",
    "mjx_model = mjx.put_model(mj_model,device=device)\n",
    "\n",
    "# Disable tendon\n",
    "opt = mjx_model.opt.replace(disableflags = mjx_model.opt.disableflags |mujoco.mjtDisableBit.mjDSBL_PASSIVE)\n",
    "mjx_model = mjx_model.replace(opt=opt)\n",
    "\n",
    "mjx_data = mjx.make_data(mjx_model)\n",
    "mj_data = mujoco.MjData(mj_model)\n",
    "\n",
    "# Load the Keyframe\n",
    "mjx_data = mjx_data.replace(qpos = mj_model.key_qpos[0])\n",
    "mj_data.qpos = mj_model.key_qpos[0]\n",
    "\n",
    "# Calculate equilibrum\n",
    "mjx_data = acceleration_mtu.calc_equilibrium(mjx_model, mjx_data)\n",
    "\n",
    "def print_all():\n",
    "    print(mjx_model.biomtu_adr)\n",
    "    print(mjx_model.mtu_wrap_objid)\n",
    "    print(mjx_model.mtu_wrap_type)\n",
    "    print(mjx_model.biomtu_fiso)\n",
    "    print(mjx_model.biomtu_vmax)\n",
    "    print(mjx_model.biomtu_ofl)\n",
    "    print(mjx_model.biomtu_opa)\n",
    "    print(mjx_model.biomtu_mass)\n",
    "    print(\"-------Data--------\")\n",
    "    print(\"qpos:\", mjx_data.qpos)\n",
    "    print(\"mtu l:\", mjx_data.biomtu.l)\n",
    "    print(\"tendon l:\", mjx_data.biomtu.tendon_l)\n",
    "    print(\"fiber l :\", mjx_data.biomtu.fiber_l)\n",
    "    print(\"Muscle Bce:\", mjx_data.biomtu.B_ce)\n",
    "    print(\"Muscle vm:\", mjx_data.biomtu.m)\n",
    "    print(\"Fiber acc:\", mjx_data.biomtu.fiber_acc)\n",
    "    print(\"Fiber v:\", mjx_data.biomtu.fiber_v)\n",
    "    print(\"Biomtu h:\", mjx_data.biomtu.h)\n",
    "    print(mjx_data.biomtu.v)\n",
    "    print(mjx_data.biomtu.h)  # The constant high of the muscle.\n",
    "    print(mjx_data.biomtu.pennation_angle)\n",
    "    print(mjx_data.biomtu.origin_body_id)\n",
    "    print(mjx_data.biomtu.insertion_body_id)\n",
    "    print(\"mtu act:\", mjx_data.biomtu.act)\n",
    "    # print(mjx_data.biomtu.j)\n",
    "    print(mjx_data.qfrc_biomtu)\n",
    "    print(mj_model.key_time)\n",
    "    print(mj_model.key_qpos)\n",
    "    print(mj_model.key_qvel)\n",
    "\n",
    "print_all()"
   ]
  },
  {
   "cell_type": "code",
   "execution_count": null,
   "metadata": {},
   "outputs": [],
   "source": [
    "print(mjx_model.nbiomtu)\n",
    "print(mjx_model.nq)\n",
    "print(mjx_data.qpos)\n",
    "print(mjx_data.qvel)"
   ]
  },
  {
   "cell_type": "markdown",
   "metadata": {},
   "source": [
    "## Neural Network"
   ]
  },
  {
   "cell_type": "code",
   "execution_count": null,
   "metadata": {},
   "outputs": [],
   "source": [
    "import jax\n",
    "import jax.numpy as jp\n",
    "import flax\n",
    "import flax.linen as nn\n",
    "import optax\n",
    "\n",
    "class Controller_NN(nn.Module):\n",
    "    # It will output the mean and variance for each muscle's activation\n",
    "    nbiomtu = mjx_model.nbiomtu\n",
    "    def setup(self):\n",
    "        # Features means the output dimension# Single step\n",
    "\n",
    "        self.linear1 = nn.Dense(features=400)\n",
    "        self.linear2 = nn.Dense(features=400)\n",
    "        self.linear3 = nn.Dense(features=400)\n",
    "        self.linear4 = nn.Dense(features=400)\n",
    "        # The last layer will output the mean and logstd\n",
    "        self.linear5 = nn.Dense(features=self.nbiomtu*2)\n",
    "        \n",
    "    \n",
    "    def __call__(self, x, key):\n",
    "        x = self.linear1(x)\n",
    "        x = nn.relu(x)\n",
    "        x = self.linear2(x)\n",
    "        x = nn.relu(x)\n",
    "        x = self.linear3(x)\n",
    "        x = nn.relu(x)\n",
    "        x = self.linear4(x)\n",
    "        x = nn.relu(x)\n",
    "        x = self.linear5(x)\n",
    "        # The last layer of the neural requires samping\n",
    "        mean = x[0:self.nbiomtu]\n",
    "        logstd = x[self.nbiomtu:self.nbiomtu*2]\n",
    "        std = jp.exp(logstd)\n",
    "        samples = jp.clip(jax.random.normal(key)*std*0.3 + mean, 0 ,1)\n",
    "        \n",
    "        return samples, mean, logstd\n",
    "\n",
    "\n",
    "# Test the neural network\n",
    "control_model = Controller_NN()\n",
    "\n",
    "print(control_model)\n",
    "# Init the model\n",
    "key = jax.random.PRNGKey(66)\n",
    "sub_keys = jax.random.split(key,1)\n",
    "# The second parameter is the dommy input\n",
    "params = control_model.init(key,jp.empty([1,mjx_model.nq*2]),sub_keys[0])\n",
    "# print(params)\n",
    "print(control_model.apply( params,jp.ones(mjx_model.nq*2), sub_keys[0]))\n",
    "jit_nn_apply = jax.jit(lambda params,states,key : control_model.apply(params,states,key))"
   ]
  },
  {
   "cell_type": "markdown",
   "metadata": {},
   "source": [
    "## Combine Neural Net and Simulation into one Jax function"
   ]
  },
  {
   "cell_type": "code",
   "execution_count": 4,
   "metadata": {},
   "outputs": [],
   "source": [
    "# Multiple steps\n",
    "def step_fn(carry, _):\n",
    "    data, model = carry\n",
    "    new_data = mjx.step(model, data)\n",
    "    new_carry = (new_data, model)\n",
    "    return new_carry, _\n",
    "\n",
    "def multiple_steps(model, data):\n",
    "    init_carry = (data, model)\n",
    "    y, _ = jax.lax.scan(step_fn, init_carry, None, length=10)\n",
    "    new_data = y[0]\n",
    "    return new_data\n",
    "\n",
    "def nn_mjx_one_step(nn_params, model, data, key):\n",
    "    states = jp.concatenate([data.qpos, data.qvel])\n",
    "    act = jit_nn_apply(nn_params, states, key)[0]\n",
    "    # Generate the next key\n",
    "    new_key = jax.random.split(key,1)[0]\n",
    "    mtu = data.biomtu\n",
    "    mtu = mtu.replace(act = act)\n",
    "    data = data.replace(biomtu = mtu)\n",
    "    new_data = mjx.step(model, data)\n",
    "    return new_data, new_key\n",
    "\n",
    "@jax.jit\n",
    "def nn_mjx_multi_steps(nn_params, model, data, key):\n",
    "    def nn_step_fn(carry, _):\n",
    "        data, key = carry\n",
    "        new_data, new_key = nn_mjx_one_step(nn_params, model, data, key)\n",
    "        new_carry = (new_data, new_key)\n",
    "        # head_hight = new_data.xpos[2,2]\n",
    "        # jax.debug.print(\"Head Height {0}\",head_hight)\n",
    "        return new_carry, _\n",
    "    init_carry = (data, key)\n",
    "    y, _ = jax.lax.scan(nn_step_fn, init_carry, None, length=10)\n",
    "    new_data = y[0]\n",
    "    new_key = y[1]\n",
    "    return new_data, new_key"
   ]
  },
  {
   "cell_type": "markdown",
   "metadata": {},
   "source": [
    "## Testing control model with neural networks"
   ]
  },
  {
   "cell_type": "code",
   "execution_count": null,
   "metadata": {},
   "outputs": [],
   "source": [
    "import mujoco.viewer\n",
    "import time\n",
    "\n",
    "previous_frame_time = time.time()\n",
    "i = 0\n",
    "key = jax.random.key(387)\n",
    "with mujoco.viewer.launch_passive(mj_model, mj_data) as viewer:\n",
    "    while viewer.is_running():\n",
    "        # Update mjx_data from mj_data. The mj_data was modified by the viewer\n",
    "        # mjx_data = mjx_data.replace(ctrl=mj_data.ctrl, xfrc_applied=mj_data.xfrc_applied)\n",
    "        # Use the nerual network to generate ctrl signal\n",
    "        # Generate key\n",
    "        \n",
    "        mjx_data = mjx_data.replace(xfrc_applied=mj_data.xfrc_applied)\n",
    "        mjx_data = mjx_data.replace(qpos=mj_data.qpos, qvel=mj_data.qvel, time = mj_data.time)\n",
    "        \n",
    "        # Update mjx_model from mj_model\n",
    "        mjx_model = mjx_model.tree_replace({\n",
    "            'opt.gravity': mj_model.opt.gravity,\n",
    "            'opt.tolerance': mj_model.opt.tolerance,\n",
    "            'opt.ls_tolerance': mj_model.opt.ls_tolerance,\n",
    "            'opt.timestep': mj_model.opt.timestep,\n",
    "        })\n",
    "        \n",
    "        # mjx_data = mjx_step(mjx_model, mjx_data)\n",
    "        mjx_data, key = nn_mjx_multi_steps(params, mjx_model, mjx_data, key)\n",
    "        mjx.get_data_into(mj_data, mj_model, mjx_data)\n",
    "        \n",
    "        # Record the current time at the start of this frame\n",
    "        current_frame_time = time.time()\n",
    "    \n",
    "        # Calculate the difference in time from the last frame\n",
    "        time_between_frames = current_frame_time - previous_frame_time\n",
    "    \n",
    "        # Print the time between frames\n",
    "        print(f\"Time between frames: {time_between_frames} seconds\")\n",
    "        previous_frame_time = current_frame_time\n",
    "        \n",
    "        # print(\"ACT:\", mjx_data.biomtu.act)\n",
    "        # print(mjx_data.qpos)\n",
    "        print(mjx_data.xpos)\n",
    "        # print(len(mjx_data.qvel))\n",
    "        viewer.sync()"
   ]
  },
  {
   "cell_type": "markdown",
   "metadata": {},
   "source": [
    "## Batched Random Init Model"
   ]
  },
  {
   "cell_type": "code",
   "execution_count": 5,
   "metadata": {},
   "outputs": [],
   "source": [
    "def random_init(data, model, rng: jax.Array):\n",
    "    nbiomtu = model.nq\n",
    "    init_qpos = data.qpos\n",
    "    init_qvel = data.qvel\n",
    "    new_rng, rng1, rng2 = jax.random.split(rng, 3)\n",
    "    # Qpos_1 is the vertical position\n",
    "    random_qpos = init_qpos + jax.random.uniform(rng1, [nbiomtu], minval=-1, maxval=1)*0.01\n",
    "    random_qvel = init_qvel + jax.random.uniform(rng2, [nbiomtu], minval=-1, maxval=1)*0.01\n",
    "    newdata = data.replace(qpos=random_qpos)\n",
    "    newdata = newdata.replace(qvel=random_qvel)\n",
    "    newdata = mjx.forward(mjx_model, newdata)\n",
    "    # print('data:',data.qpos, data.qvel)\n",
    "    return newdata, new_rng\n",
    "\n",
    "vrandom_init = jax.jit(jax.vmap(random_init, in_axes=(None, None, 0),out_axes=(0,0)))"
   ]
  },
  {
   "cell_type": "markdown",
   "metadata": {},
   "source": [
    "## Reward Function"
   ]
  },
  {
   "cell_type": "code",
   "execution_count": 6,
   "metadata": {},
   "outputs": [],
   "source": [
    "def reward_n_step(nn_params, data, model, key):\n",
    "    repeat_n = 5\n",
    "    def nn_step_fn(carry, _):\n",
    "        data, key = carry\n",
    "        new_data, new_key = nn_mjx_one_step(nn_params, model, data, key)\n",
    "        new_carry = (new_data, new_key)\n",
    "        head_hight = new_data.xpos[2,2]\n",
    "        # jax.debug.print(\"Head Height {0}\",head_hight)\n",
    "        return new_carry, head_hight\n",
    "    \n",
    "    def decay_sum_scan(x, decay):\n",
    "        def f(sxtm1, xt):\n",
    "            b = xt + decay * sxtm1\n",
    "            return b, b\n",
    "        return jax.lax.scan(f, jp.zeros(x.shape[1:]), x)[1]\n",
    "    \n",
    "    _, head_heights = jax.lax.scan(nn_step_fn, (data, key), None, repeat_n)\n",
    "    # new_data, new_key = carry\n",
    "    reward = decay_sum_scan(head_heights, 0.95)[repeat_n -1]\n",
    "    return reward\n",
    "    \n",
    "reward_grad = jax.jit(jax.grad(reward_n_step))\n",
    "\n",
    "\n",
    "def batch_reward(nn_params, batched_data, model, keys):\n",
    "    return jp.mean(jax.vmap(reward_n_step, (None, 0, None, 0))(nn_params, batched_data, model, keys))\n",
    "\n",
    "batch_reward_grad = jax.jit(jax.grad((batch_reward)))\n",
    "jit_batch_reward = jax.jit(batch_reward)"
   ]
  },
  {
   "cell_type": "code",
   "execution_count": null,
   "metadata": {},
   "outputs": [],
   "source": [
    "# Generate batched data\n",
    "batch_size = 400\n",
    "seed = 2024\n",
    "key = jax.random.key(seed)\n",
    "rngs = jax.random.split(key, batch_size) \n",
    "mjx_data_batch, r = vrandom_init(mjx_data, mjx_model, rngs)\n",
    "\n",
    "print(\"Calculating reward grad\")\n",
    "a = batch_reward_grad(params, mjx_data_batch, mjx_model, rngs)"
   ]
  },
  {
   "cell_type": "code",
   "execution_count": 10,
   "metadata": {},
   "outputs": [],
   "source": [
    "for i in range(100):\n",
    "    r = jit_batch_reward(params, mjx_data_batch, mjx_model, rngs)"
   ]
  },
  {
   "cell_type": "code",
   "execution_count": null,
   "metadata": {},
   "outputs": [],
   "source": [
    "# print(r)\n",
    "print(a)"
   ]
  },
  {
   "cell_type": "markdown",
   "metadata": {},
   "source": [
    "## Train the NN"
   ]
  },
  {
   "cell_type": "code",
   "execution_count": null,
   "metadata": {},
   "outputs": [],
   "source": []
  },
  {
   "cell_type": "code",
   "execution_count": null,
   "metadata": {},
   "outputs": [],
   "source": [
    "import jax\n",
    "import jax.numpy as jp\n",
    "\n",
    "seed = 123\n",
    "key = jax.random.key(seed)\n",
    "print(key)\n",
    "new_key = jax.random.split(key,1)\n",
    "print(new_key)\n",
    "nn_key = jax.random.split(new_key[0],1)\n",
    "print(nn_key)\n",
    "print(jax.random.uniform(nn_key[0], [5], minval=-1, maxval=1)*0.001)"
   ]
  },
  {
   "cell_type": "code",
   "execution_count": null,
   "metadata": {},
   "outputs": [],
   "source": [
    "mjx_data.xipos[2,2]"
   ]
  },
  {
   "cell_type": "code",
   "execution_count": null,
   "metadata": {},
   "outputs": [],
   "source": [
    "mjx_data.qvel.shape"
   ]
  },
  {
   "cell_type": "code",
   "execution_count": null,
   "metadata": {},
   "outputs": [],
   "source": [
    "mjx_model.nq"
   ]
  },
  {
   "cell_type": "code",
   "execution_count": null,
   "metadata": {},
   "outputs": [],
   "source": []
  }
 ],
 "metadata": {
  "kernelspec": {
   "display_name": "biomujoco",
   "language": "python",
   "name": "python3"
  },
  "language_info": {
   "codemirror_mode": {
    "name": "ipython",
    "version": 3
   },
   "file_extension": ".py",
   "mimetype": "text/x-python",
   "name": "python",
   "nbconvert_exporter": "python",
   "pygments_lexer": "ipython3",
   "version": "3.11.9"
  }
 },
 "nbformat": 4,
 "nbformat_minor": 2
}
