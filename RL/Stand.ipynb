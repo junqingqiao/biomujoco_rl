{
 "cells": [
  {
   "cell_type": "markdown",
   "metadata": {},
   "source": [
    "# Simple RL code to teach the model to stand"
   ]
  },
  {
   "cell_type": "markdown",
   "metadata": {},
   "source": [
    "## Setup jax enviroment and Load Model "
   ]
  },
  {
   "cell_type": "code",
   "execution_count": null,
   "metadata": {},
   "outputs": [],
   "source": [
    "import numpy as np\n",
    "import mediapy as media\n",
    "import matplotlib.pyplot as plt\n",
    "\n",
    "\n",
    "import os\n",
    "# os.environ[\"XLA_PYTHON_CLIENT_MEM_FRACTION\"] = \".60\"\n",
    "\n",
    "# Optionally, force JAX to preallocate memory.\n",
    "# os.environ[\"XLA_PYTHON_CLIENT_PREALLOCATE\"] = \"true\"\n",
    "os.environ[\"XLA_PYTHON_CLIENT_PREALLOCATE\"] = \"false\"\n",
    "\n",
    "# Setup environment variable for Nvidia GPU acceleration\n",
    "os.environ['XLA_FLAGS'] = (\n",
    "    '--xla_gpu_triton_gemm_any=True '\n",
    ")\n",
    "\n",
    "backend = 'gpu'\n",
    "# backend = 'METAL'\n",
    "# backend = 'cpu'\n",
    "\n",
    "import jax\n",
    "# Enable compliation catch\n",
    "jax.config.update(\"jax_compilation_cache_dir\", \"./jax_cache\")\n",
    "jax.config.update(\"jax_persistent_cache_min_entry_size_bytes\", 0)\n",
    "jax.config.update(\"jax_persistent_cache_min_compile_time_secs\", 5)\n",
    "jax.config.update(\"jax_explain_cache_misses\", True)\n",
    "\n",
    "# Debug Nan\n",
    "# jax.config.update(\"jax_debug_nans\", True)\n",
    "\n",
    "from jax import numpy as jp\n",
    "# More legible printing from numpy.\n",
    "jp.set_printoptions(precision=4, suppress=True, linewidth=100)\n",
    "\n",
    "import mujoco\n",
    "import mujoco.mjx as mjx\n",
    "from mujoco.mjx._src import scan\n",
    "from mujoco.mjx._src import types\n",
    "\n",
    "# More legible printing from numpy.\n",
    "np.set_printoptions(precision=4, suppress=True, linewidth=100)\n",
    "\n",
    "from IPython.display import clear_output\n",
    "clear_output()\n",
    "\n",
    "device = jax.devices(backend=backend)[0]\n",
    "\n",
    "model_path = '/home/bugman/Currentwork/biomujoco_converter/converted/mjc/Gait2354/gait2354_cvt1.xml'\n",
    "\n",
    "# Single step\n",
    "mjx_step = jax.jit(mjx.step, backend=backend)\n",
    "\n",
    "\n",
    "\n",
    "# mjx_multiple_steps = jax.jit(multiple_steps, backend=backend, )"
   ]
  },
  {
   "cell_type": "code",
   "execution_count": null,
   "metadata": {},
   "outputs": [],
   "source": [
    "from mujoco.mjx._src.biomtu.acceleration_mtu import acceleration_mtu\n",
    "\n",
    "mj_model = mujoco.MjModel.from_xml_path(model_path)\n",
    "mjx_model = mjx.put_model(mj_model,device=device)\n",
    "\n",
    "# Disable tendon\n",
    "opt = mjx_model.opt.replace(disableflags = mjx_model.opt.disableflags |mujoco.mjtDisableBit.mjDSBL_PASSIVE)\n",
    "mjx_model = mjx_model.replace(opt=opt)\n",
    "\n",
    "mjx_data = mjx.make_data(mjx_model)\n",
    "mj_data = mujoco.MjData(mj_model)\n",
    "\n",
    "# Load the Keyframe\n",
    "mjx_data = mjx_data.replace(qpos = mj_model.key_qpos[0])\n",
    "mj_data.qpos = mj_model.key_qpos[0]\n",
    "\n",
    "# Calculate equilibrum\n",
    "mjx_data = acceleration_mtu.calc_equilibrium(mjx_model, mjx_data)\n",
    "mjx_data = mjx_step(mjx_model, mjx_data)\n",
    "\n",
    "def print_all():\n",
    "    print(mjx_model.biomtu_adr)\n",
    "    print(mjx_model.mtu_wrap_objid)\n",
    "    print(mjx_model.mtu_wrap_type)\n",
    "    print(mjx_model.biomtu_fiso)\n",
    "    print(mjx_model.biomtu_vmax)\n",
    "    print(mjx_model.biomtu_ofl)\n",
    "    print(mjx_model.biomtu_opa)\n",
    "    print(mjx_model.biomtu_mass)\n",
    "    print(\"-------Data--------\")\n",
    "    print(\"qpos:\", mjx_data.qpos)\n",
    "    print(\"mtu l:\", mjx_data.biomtu.l)\n",
    "    print(\"tendon l:\", mjx_data.biomtu.tendon_l)\n",
    "    print(\"fiber l :\", mjx_data.biomtu.fiber_l)\n",
    "    print(\"Muscle Bce:\", mjx_data.biomtu.B_ce)\n",
    "    print(\"Muscle vm:\", mjx_data.biomtu.m)\n",
    "    print(\"Fiber acc:\", mjx_data.biomtu.fiber_acc)\n",
    "    print(\"Fiber v:\", mjx_data.biomtu.fiber_v)\n",
    "    print(\"Biomtu h:\", mjx_data.biomtu.h)\n",
    "    print(mjx_data.biomtu.v)\n",
    "    print(mjx_data.biomtu.h)  # The constant high of the muscle.\n",
    "    print(mjx_data.biomtu.pennation_angle)\n",
    "    print(mjx_data.biomtu.origin_body_id)\n",
    "    print(mjx_data.biomtu.insertion_body_id)\n",
    "    print(\"mtu act:\", mjx_data.biomtu.act)\n",
    "    # print(mjx_data.biomtu.j)\n",
    "    print(mjx_data.qfrc_biomtu)\n",
    "    print(mj_model.key_time)\n",
    "    print(mj_model.key_qpos)\n",
    "    print(mj_model.key_qvel)\n",
    "\n",
    "print_all()"
   ]
  },
  {
   "cell_type": "markdown",
   "metadata": {},
   "source": []
  },
  {
   "cell_type": "code",
   "execution_count": null,
   "metadata": {},
   "outputs": [],
   "source": [
    "print(mjx_model.nbiomtu)\n",
    "print(mjx_model.nq)\n",
    "print(mjx_data.qpos)\n",
    "print(mjx_data.qvel)"
   ]
  },
  {
   "cell_type": "markdown",
   "metadata": {},
   "source": [
    "## Neural Network"
   ]
  },
  {
   "cell_type": "code",
   "execution_count": null,
   "metadata": {},
   "outputs": [],
   "source": [
    "import jax\n",
    "import jax.numpy as jp\n",
    "import flax\n",
    "import flax.linen as nn\n",
    "import optax\n",
    "\n",
    "class Controller_NN(nn.Module):\n",
    "    # It will output the mean and variance for each muscle's activation\n",
    "    nbiomtu = 54\n",
    "    def setup(self):\n",
    "        # Features means the output dimension# Single step\n",
    "\n",
    "        self.linear1 = nn.Dense(features=400)\n",
    "        self.linear2 = nn.Dense(features=400)\n",
    "        self.linear3 = nn.Dense(features=400)\n",
    "        self.linear4 = nn.Dense(features=400)\n",
    "        # The last layer will output the mean and logstd\n",
    "        self.linear5 = nn.Dense(features=self.nbiomtu*2)\n",
    "        \n",
    "    \n",
    "    def __call__(self, x, key):\n",
    "        x = self.linear1(x)\n",
    "        x = nn.relu(x)\n",
    "        x = self.linear2(x)\n",
    "        x = nn.relu(x)\n",
    "        x = self.linear3(x)\n",
    "        x = nn.relu(x)\n",
    "        x = self.linear4(x)\n",
    "        x = nn.relu(x)\n",
    "        x = self.linear5(x)\n",
    "        # The last layer of the neural requires samping\n",
    "        mean = x[0:self.nbiomtu]\n",
    "        logstd = x[self.nbiomtu:self.nbiomtu*2]\n",
    "        std = jp.exp(logstd)\n",
    "        samples = jp.clip(jax.random.normal(key)*std*0.3 + mean, 0 ,1)\n",
    "        \n",
    "        return samples, mean, logstd\n",
    "\n",
    "\n",
    "# Test the neural network\n",
    "control_model = Controller_NN()\n",
    "\n",
    "print(control_model)\n",
    "# Init the model\n",
    "key = jax.random.key(66)\n",
    "sub_keys = jax.random.split(key,1)\n",
    "# The second parameter is the dommy input\n",
    "params = control_model.init(key,jp.empty([1,mjx_model.nq*2]),sub_keys[0])\n",
    "# print(params)\n",
    "print(control_model.apply( params, jp.ones(mjx_model.nq*2), sub_keys[0]))\n",
    "jit_nn_apply = jax.jit(lambda params,states,key : control_model.apply(params,states,key))"
   ]
  },
  {
   "cell_type": "markdown",
   "metadata": {},
   "source": [
    "## Combine Neural Net and Simulation into one Jax function"
   ]
  },
  {
   "cell_type": "code",
   "execution_count": null,
   "metadata": {},
   "outputs": [],
   "source": [
    "# Multiple steps\n",
    "def step_fn(carry, _):\n",
    "    data, model = carry\n",
    "    new_data = mjx.step(model, data)\n",
    "    new_carry = (new_data, model)\n",
    "    return new_carry, _\n",
    "\n",
    "def multiple_steps(model, data):\n",
    "    init_carry = (data, model)\n",
    "    y, _ = jax.lax.scan(step_fn, init_carry, None, length=10)\n",
    "    new_data = y[0]\n",
    "    return new_data\n",
    "\n",
    "def nn_mjx_one_step(nn_params, model, data, key):\n",
    "    states = jp.concatenate([data.qpos, data.qvel])\n",
    "    act = jit_nn_apply(nn_params, states, key)[0]\n",
    "    # Generate the next key\n",
    "    new_key = jax.random.split(key,1)[0]\n",
    "    mtu = data.biomtu\n",
    "    mtu = mtu.replace(act = act)\n",
    "    data = data.replace(biomtu = mtu)\n",
    "    new_data = mjx.step(model, data)\n",
    "    return new_data, new_key\n",
    "\n",
    "@jax.jit\n",
    "def nn_mjx_multi_steps(nn_params, model, data, key):\n",
    "    def nn_step_fn(carry, _):\n",
    "        data, key = carry\n",
    "        new_data, new_key = nn_mjx_one_step(nn_params, model, data, key)\n",
    "        new_carry = (new_data, new_key)\n",
    "        # head_hight = new_data.xpos[2,2]\n",
    "        # jax.debug.print(\"Head Height {0}\",head_hight)\n",
    "        return new_carry, _\n",
    "    init_carry = (data, key)\n",
    "    y, _ = jax.lax.scan(nn_step_fn, init_carry, None, length=10)\n",
    "    new_data = y[0]\n",
    "    new_key = y[1]\n",
    "    return new_data, new_key"
   ]
  },
  {
   "cell_type": "markdown",
   "metadata": {},
   "source": [
    "## Testing control model with neural networks"
   ]
  },
  {
   "cell_type": "code",
   "execution_count": null,
   "metadata": {},
   "outputs": [],
   "source": [
    "import mujoco.viewer\n",
    "import time\n",
    "\n",
    "previous_frame_time = time.time()\n",
    "i = 0\n",
    "key = jax.random.key(334)\n",
    "with mujoco.viewer.launch_passive(mj_model, mj_data) as viewer:\n",
    "    while viewer.is_running():\n",
    "        # Update mjx_data from mj_data. The mj_data was modified by the viewer\n",
    "        # mjx_data = mjx_data.replace(ctrl=mj_data.ctrl, xfrc_applied=mj_data.xfrc_applied)\n",
    "        # Use the nerual network to generate ctrl signal\n",
    "        # Generate key\n",
    "        \n",
    "        mjx_data = mjx_data.replace(xfrc_applied=jp.array(mj_data.xfrc_applied, dtype=jp.float32))\n",
    "        mjx_data = mjx_data.replace(\n",
    "            qpos= jp.array(mj_data.qpos, dtype=jp.float32),\n",
    "            qvel= jp.array(mj_data.qvel, dtype=jp.float32),\n",
    "            time = jp.array(mj_data.time, dtype=jp.float32))\n",
    "        \n",
    "        # Update mjx_model from mj_model\n",
    "        mjx_model = mjx_model.tree_replace({\n",
    "            'opt.gravity': jp.array(mj_model.opt.gravity, dtype=jp.float32),\n",
    "            'opt.tolerance': jp.array(mj_model.opt.tolerance, dtype=jp.float32),\n",
    "            'opt.ls_tolerance': jp.array(mj_model.opt.ls_tolerance, dtype=jp.float32),\n",
    "            'opt.timestep': jp.array(mj_model.opt.timestep, dtype=jp.float32),\n",
    "        })\n",
    "        \n",
    "        # mjx_data = mjx_step(mjx_model, mjx_data)\n",
    "        mjx_data, key = nn_mjx_multi_steps(params, mjx_model, mjx_data, key)\n",
    "        mjx.get_data_into(mj_data, mj_model, mjx_data)\n",
    "        \n",
    "        # Record the current time at the start of this frame\n",
    "        current_frame_time = time.time()\n",
    "    \n",
    "        # Calculate the difference in time from the last frame\n",
    "        time_between_frames = current_frame_time - previous_frame_time\n",
    "    \n",
    "        # Print the time between frames\n",
    "        print(f\"Time between frames: {time_between_frames} seconds\")\n",
    "        previous_frame_time = current_frame_time\n",
    "        \n",
    "        # print(\"ACT:\", mjx_data.biomtu.act)\n",
    "        # print(mjx_data.qpos)\n",
    "        print(mjx_data.sensordata)\n",
    "        # print(len(mjx_data.qvel))\n",
    "        viewer.sync()"
   ]
  },
  {
   "cell_type": "markdown",
   "metadata": {},
   "source": [
    "## Batched Random Init Model"
   ]
  },
  {
   "cell_type": "code",
   "execution_count": null,
   "metadata": {},
   "outputs": [],
   "source": [
    "def random_init(data, model, rng: jax.Array):\n",
    "    nbiomtu = model.nq\n",
    "    init_qpos = data.qpos\n",
    "    init_qvel = data.qvel\n",
    "    new_rng, rng1, rng2 = jax.random.split(rng, 3)\n",
    "    # Qpos_1 is the vertical position\n",
    "    random_qpos = init_qpos + jax.random.uniform(rng1, [nbiomtu], minval=jp.array(-1.0), maxval=jp.array(1.0))*0.01\n",
    "    random_qvel = init_qvel + jax.random.uniform(rng2, [nbiomtu], minval=jp.array(-1.0), maxval=jp.array(1.0))*0.01\n",
    "    newdata = data.replace(qpos=random_qpos)\n",
    "    newdata = newdata.replace(qvel=random_qvel)\n",
    "    newdata = mjx.forward(mjx_model, newdata)\n",
    "    # print('data:',data.qpos, data.qvel)\n",
    "    # Calculate equilibrum\n",
    "    # newdata = acceleration_mtu.calc_equilibrium(mjx_model, newdata)\n",
    "    # newdata = mjx_step(mjx_model, newdata)\n",
    "    return newdata, new_rng\n",
    "\n",
    "vrandom_init = jax.jit(jax.vmap(random_init, in_axes=(None, None, 0), out_axes=0))"
   ]
  },
  {
   "cell_type": "markdown",
   "metadata": {},
   "source": [
    "## Test Init"
   ]
  },
  {
   "cell_type": "code",
   "execution_count": null,
   "metadata": {},
   "outputs": [],
   "source": [
    "batch_size = 60\n",
    "seed = 2024\n",
    "key = jax.random.key(seed)\n",
    "rngs = jax.random.split(key, batch_size) \n",
    "mjx_data_batch, rngs = vrandom_init(mjx_data, mjx_model, rngs)\n",
    "mjx_data_batch[:,0]"
   ]
  },
  {
   "cell_type": "code",
   "execution_count": null,
   "metadata": {},
   "outputs": [],
   "source": [
    "print(mjx_data_batch.biomtu)"
   ]
  },
  {
   "cell_type": "markdown",
   "metadata": {},
   "source": [
    "## Reward Function\n",
    "get reward at the same time calculate the mjx_data"
   ]
  },
  {
   "cell_type": "code",
   "execution_count": null,
   "metadata": {},
   "outputs": [],
   "source": [
    "# from functools import partial\n",
    "\n",
    "def nn_mjx_one_step(nn_params, model, data, key):\n",
    "    states = jp.concatenate([data.qpos, data.qvel])\n",
    "    act = jit_nn_apply(nn_params, states, key)[0]\n",
    "    # Generate the next key\n",
    "    new_key = jax.random.split(key,1)[0]\n",
    "    data = data.replace(biomtu = data.biomtu.replace(act=act))\n",
    "    new_data = mjx.step(model, data)\n",
    "    return new_data, new_key\n",
    "\n",
    "def nn_step_fn(carry, _):\n",
    "    data, key, nn_params, model = carry\n",
    "    new_data, new_key = nn_mjx_one_step(nn_params, model, data, key)\n",
    "    new_carry = (new_data, new_key, nn_params, model)\n",
    "    head_hight = new_data.sensordata[2]\n",
    "    # jax.debug.print(\"Head Height {0}\",head_hight)\n",
    "    return new_carry, (head_hight-1.63)**2\n",
    "\n",
    "def decay_sum_scan(x, decay):\n",
    "    def f(sxtm1, xt):\n",
    "        b = xt + decay * sxtm1\n",
    "        return b, b\n",
    "    return jax.lax.scan(f, jp.zeros(x.shape[1:]), x)[1]\n",
    "\n",
    "# This function return the loss as well as the new data\n",
    "def reward_n_step(nn_params, model, data, key):\n",
    "    repeat_n = 50   # Simulate for 0.1s\n",
    "    carry, head_heights = jax.lax.scan(nn_step_fn, (data, key, nn_params, model), None, repeat_n)\n",
    "    loss = decay_sum_scan(head_heights, 0.95)[repeat_n -1]\n",
    "    new_data = carry[0]\n",
    "    return loss, new_data\n",
    "\n",
    "def batch_reward(nn_params, batched_data, keys, model):\n",
    "    batch_loss, batch_new_data = jax.vmap(reward_n_step, (None, None, 0, 0))(nn_params, model, batched_data, keys)\n",
    "    return jp.mean(batch_loss), batch_new_data \n",
    "\n",
    "jit_batch_reward_grad = jax.jit(jax.grad(batch_reward,has_aux=True))\n",
    "jit_batch_reward = jax.jit(batch_reward)"
   ]
  },
  {
   "cell_type": "code",
   "execution_count": null,
   "metadata": {},
   "outputs": [],
   "source": [
    "# Generate batched data\n",
    "batch_size = 60\n",
    "seed = 2024\n",
    "key = jax.random.key(seed)\n",
    "rngs = jax.random.split(key, batch_size) \n",
    "mjx_data_batch, rngs = vrandom_init(mjx_data, mjx_model, rngs)\n",
    "r,d = jit_batch_reward(params, mjx_data_batch, rngs, mjx_model)\n",
    "print(r)\n",
    "print(\"Calculating reward grad\")\n",
    "g,d = jit_batch_reward_grad(params, mjx_data_batch, rngs, mjx_model)\n"
   ]
  },
  {
   "cell_type": "markdown",
   "metadata": {},
   "source": [
    "## Reset part of the data based on the condition"
   ]
  },
  {
   "cell_type": "code",
   "execution_count": null,
   "metadata": {},
   "outputs": [],
   "source": []
  },
  {
   "cell_type": "code",
   "execution_count": null,
   "metadata": {},
   "outputs": [],
   "source": [
    "print(r)\n",
    "print(d.sensordata[:,2])"
   ]
  },
  {
   "cell_type": "markdown",
   "metadata": {},
   "source": [
    "## Train the NN"
   ]
  },
  {
   "cell_type": "code",
   "execution_count": null,
   "metadata": {},
   "outputs": [],
   "source": [
    "mjx_data_batch, rngs = vrandom_init(mjx_data, mjx_model, rngs)"
   ]
  },
  {
   "cell_type": "code",
   "execution_count": null,
   "metadata": {},
   "outputs": [],
   "source": [
    "params = control_model.init(key,jp.empty([1,mjx_model.nq*2]),sub_keys[0])\n"
   ]
  },
  {
   "cell_type": "code",
   "execution_count": null,
   "metadata": {},
   "outputs": [],
   "source": [
    "tx = optax.adam(learning_rate=0.0003)\n",
    "opt_state = tx.init(params)\n",
    "\n",
    "for i in range(400):\n",
    "    # generate random mjx_data\n",
    "    mjx_data_batch, rngs = vrandom_init(mjx_data, mjx_model, rngs)\n",
    "    # print(rngs[0])\n",
    "    r = jit_batch_reward(params, mjx_data_batch, rngs)\n",
    "    print(r)\n",
    "    g = jit_batch_reward_grad(params, mjx_data_batch, rngs)\n",
    "    updates, opt_stats = tx.update(g, opt_state)\n",
    "    params = optax.apply_updates(params, updates)\n",
    "    print(\"params updated\")"
   ]
  },
  {
   "cell_type": "markdown",
   "metadata": {},
   "source": [
    "## Test Train"
   ]
  },
  {
   "cell_type": "code",
   "execution_count": null,
   "metadata": {},
   "outputs": [],
   "source": [
    "jit_nn_mjx_one_step = jax.jit(nn_mjx_one_step)\n"
   ]
  },
  {
   "cell_type": "code",
   "execution_count": null,
   "metadata": {},
   "outputs": [],
   "source": [
    "import mujoco.viewer\n",
    "import time\n",
    "\n",
    "\n",
    "mjx_data = mjx.make_data(mjx_model)\n",
    "mj_data = mujoco.MjData(mj_model)\n",
    "\n",
    "# Load the Keyframe\n",
    "mjx_data = mjx_data.replace(qpos = mj_model.key_qpos[0])\n",
    "mj_data.qpos = mj_model.key_qpos[0]\n",
    "\n",
    "# Calculate equilibrum\n",
    "mjx_data = acceleration_mtu.calc_equilibrium(mjx_model, mjx_data)\n",
    "mjx_data = mjx_step(mjx_model, mjx_data)\n",
    "\n",
    "previous_frame_time = time.time()\n",
    "i = 0\n",
    "key = jax.random.key(seed)\n",
    "with mujoco.viewer.launch_passive(mj_model, mj_data) as viewer:\n",
    "    while viewer.is_running():\n",
    "        i += 1\n",
    "        if(i ==4):\n",
    "            time.sleep(0)\n",
    "            # pass\n",
    "        # Update mjx_data from mj_data. The mj_data was modified by the viewer\n",
    "        # mjx_data = mjx_data.replace(ctrl=mj_data.ctrl, xfrc_applied=mj_data.xfrc_applied)\n",
    "        # Use the nerual network to generate ctrl signal\n",
    "        # Generate key\n",
    "        \n",
    "        mjx_data = mjx_data.replace(xfrc_applied=jp.array(mj_data.xfrc_applied, dtype=jp.float32))\n",
    "        \n",
    "        mjx_data = mjx_data.replace(\n",
    "            qpos= jp.array(mj_data.qpos, dtype=jp.float32),\n",
    "            qvel= jp.array(mj_data.qvel, dtype=jp.float32),\n",
    "            time = jp.array(mj_data.time, dtype=jp.float32))\n",
    "        \n",
    "        # Update mjx_model from mj_model\n",
    "        mjx_model = mjx_model.tree_replace({\n",
    "            'opt.gravity': jp.array(mj_model.opt.gravity, dtype=jp.float32),\n",
    "            'opt.tolerance': jp.array(mj_model.opt.tolerance, dtype=jp.float32),\n",
    "            'opt.ls_tolerance': jp.array(mj_model.opt.ls_tolerance, dtype=jp.float32),\n",
    "            'opt.timestep': jp.array(mj_model.opt.timestep, dtype=jp.float32),\n",
    "        })\n",
    "        \n",
    "        # mjx_data = mjx_step(mjx_model, mjx_data)\n",
    "        # mjx_data, key = jit_nn_mjx_one_step(params, mjx_model, mjx_data, key)\n",
    "        mjx_data, key = nn_mjx_multi_steps(params, mjx_model, mjx_data, key)\n",
    "        \n",
    "        mjx.get_data_into(mj_data, mj_model, mjx_data)\n",
    "        \n",
    "        # Record the current time at the start of this frame\n",
    "        current_frame_time = time.time()\n",
    "    \n",
    "        # Calculate the difference in time from the last frame\n",
    "        time_between_frames = current_frame_time - previous_frame_time\n",
    "    \n",
    "        # Print the time between frames\n",
    "        print(f\"Time between frames: {time_between_frames} seconds\")\n",
    "        previous_frame_time = current_frame_time\n",
    "        \n",
    "        # print(\"ACT:\", mjx_data.biomtu.act)\n",
    "        # print(mjx_data.qpos)\n",
    "        print(mjx_data.sensordata[2])\n",
    "        # print(len(mjx_data.qvel))\n",
    "        viewer.sync()"
   ]
  },
  {
   "cell_type": "markdown",
   "metadata": {},
   "source": [
    "## Test Gradient for activation"
   ]
  },
  {
   "cell_type": "code",
   "execution_count": null,
   "metadata": {},
   "outputs": [],
   "source": [
    "n = mjx_model.nbiomtu\n",
    "act = jp.ones(n)*0.1"
   ]
  },
  {
   "cell_type": "code",
   "execution_count": null,
   "metadata": {},
   "outputs": [],
   "source": [
    "# jax.config.update(\"jax_debug_nans\", True)\n",
    "for i in range(10):\n",
    "    g = jit_goal_grad(act, mjx_data, mjx_model)\n",
    "    # g = goal_grad(act, mjx_data, mjx_model)\n",
    "print(g)"
   ]
  },
  {
   "cell_type": "code",
   "execution_count": null,
   "metadata": {},
   "outputs": [],
   "source": [
    "v_act = jp.ones((50,n))*0.3\n",
    "for i in range(5):\n",
    "    v_g = jit_v_goal_grad(v_act,mjx_data,mjx_model)\n",
    "print(v_g)"
   ]
  },
  {
   "cell_type": "code",
   "execution_count": null,
   "metadata": {},
   "outputs": [],
   "source": []
  },
  {
   "cell_type": "code",
   "execution_count": null,
   "metadata": {},
   "outputs": [],
   "source": [
    "for i in range(10):\n",
    "    reward = jit_goal(act, mjx_data, mjx_model)\n",
    "print(reward)"
   ]
  },
  {
   "cell_type": "code",
   "execution_count": null,
   "metadata": {},
   "outputs": [],
   "source": [
    "act = jp.ones(n)*0.0\n",
    "mtu = mjx_data.biomtu\n",
    "mtu = mtu.replace(act = act)\n",
    "test_d = mjx_data\n",
    "test_d = test_d.replace(biomtu = mtu)\n",
    "for i in range(100):\n",
    "    test_d = mjx_step(mjx_model, test_d)\n",
    "print(test_d.xipos)"
   ]
  },
  {
   "cell_type": "code",
   "execution_count": null,
   "metadata": {},
   "outputs": [],
   "source": [
    "print(test_d.biomtu.f_se)\n",
    "print(test_d.biomtu.f_ce)\n",
    "print(test_d.biomtu.l)\n",
    "print(test_d.biomtu.tendon_l - mjx_model.biomtu_tendon_slack_l)\n",
    "print(test_d.biomtu.fiber_l - mjx_model.biomtu_ofl)\n",
    "print(test_d.biomtu.fiber_l)\n",
    "print(test_d.biomtu.act)"
   ]
  },
  {
   "cell_type": "markdown",
   "metadata": {},
   "source": []
  },
  {
   "cell_type": "code",
   "execution_count": null,
   "metadata": {},
   "outputs": [],
   "source": [
    "print(mjx_data.xpos)"
   ]
  },
  {
   "cell_type": "code",
   "execution_count": null,
   "metadata": {},
   "outputs": [],
   "source": [
    "mjx_model.nbiomtu"
   ]
  },
  {
   "cell_type": "code",
   "execution_count": null,
   "metadata": {},
   "outputs": [],
   "source": [
    "batch_size = 40\n",
    "seed = 2024\n",
    "key = jax.random.key(seed)\n",
    "rngs = jax.random.split(key, batch_size) \n",
    "mjx_data_batch, rngs2 = vrandom_init(mjx_data, mjx_model, rngs)"
   ]
  },
  {
   "cell_type": "code",
   "execution_count": null,
   "metadata": {},
   "outputs": [],
   "source": [
    "print(rngs.shape)\n",
    "print(rngs2.shape)\n",
    "print(mjx_data_batch.biomtu.l.shape)"
   ]
  },
  {
   "cell_type": "code",
   "execution_count": null,
   "metadata": {},
   "outputs": [],
   "source": [
    "from functools import *\n",
    "\n",
    "# A normal function\n",
    "def test_f(input):\n",
    "    a,b,c = input\n",
    "    return 100 * a + 10 * b + c, a*10\n",
    "\n",
    "test_g = jax.jit(jax.grad(test_f, has_aux=True))\n",
    "\n",
    "\n",
    "r = test_g((1.,3.,4.))\n",
    "\n",
    "print(r)"
   ]
  },
  {
   "cell_type": "code",
   "execution_count": null,
   "metadata": {},
   "outputs": [],
   "source": []
  }
 ],
 "metadata": {
  "kernelspec": {
   "display_name": "biomujoco",
   "language": "python",
   "name": "python3"
  },
  "language_info": {
   "codemirror_mode": {
    "name": "ipython",
    "version": 3
   },
   "file_extension": ".py",
   "mimetype": "text/x-python",
   "name": "python",
   "nbconvert_exporter": "python",
   "pygments_lexer": "ipython3",
   "version": "3.11.9"
  }
 },
 "nbformat": 4,
 "nbformat_minor": 2
}
